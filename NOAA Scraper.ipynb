{
 "cells": [
  {
   "cell_type": "code",
   "execution_count": 1,
   "metadata": {},
   "outputs": [],
   "source": [
    "from bs4 import BeautifulSoup\n",
    "import requests\n",
    "\n",
    "import csv\n",
    "\n",
    "import pandas as pd\n",
    "import numpy as np\n",
    "\n",
    "import datetime\n",
    "import pytz\n",
    "\n",
    "import matplotlib.pyplot as plt\n",
    "%matplotlib notebook\n",
    "pd.plotting.register_matplotlib_converters()"
   ]
  },
  {
   "cell_type": "code",
   "execution_count": 2,
   "metadata": {},
   "outputs": [],
   "source": [
    "stationId = 56003\n",
    "dataType = 0\n",
    "startYear = 2019\n",
    "startMonth = 12\n",
    "startDay = 1\n",
    "endYear = 2020\n",
    "endMonth = 1\n",
    "endDay = 1\n",
    "\n",
    "url = 'https://www.ndbc.noaa.gov/station_page.php?' + \\\n",
    "        'station=' + str(stationId) + '&' + \\\n",
    "        'type=' + str(dataType) + '&' + \\\n",
    "        'startyear=' + str(startYear) + '&' + \\\n",
    "        'startmonth=' + str(startMonth).zfill(2) + '&' + \\\n",
    "        'startday=' + str(startDay).zfill(2) + '&' + \\\n",
    "        'endyear=' + str(endYear) + '&' + \\\n",
    "        'endmonth=' + str(endMonth).zfill(2) + '&' + \\\n",
    "        'endday=' + str(endDay).zfill(2) + '&' + \\\n",
    "        'submit=Submit'\n",
    "\n",
    "req = requests.get(url)\n",
    "\n",
    "html_doc = req.text"
   ]
  },
  {
   "cell_type": "code",
   "execution_count": 3,
   "metadata": {},
   "outputs": [],
   "source": [
    "soup = BeautifulSoup(html_doc, 'html.parser')"
   ]
  },
  {
   "cell_type": "code",
   "execution_count": 4,
   "metadata": {},
   "outputs": [],
   "source": [
    "for element in soup.find_all('textarea'):\n",
    "    data = element.text"
   ]
  },
  {
   "cell_type": "code",
   "execution_count": 5,
   "metadata": {},
   "outputs": [],
   "source": [
    "splitData = data.split('\\n')\n",
    "\n",
    "with open('test.csv', 'w') as file:\n",
    "    for line in splitData[:-1]:\n",
    "        try:\n",
    "            # Check if it is header\n",
    "            if line[0] == '#':\n",
    "                continue\n",
    "            # Add to CSV\n",
    "            else:\n",
    "                file.write(line)\n",
    "                file.write('\\n')\n",
    "        except IndexError:\n",
    "            print(line + 'hi')"
   ]
  },
  {
   "cell_type": "code",
   "execution_count": 6,
   "metadata": {},
   "outputs": [],
   "source": [
    "dataFrame = pd.read_csv('test.csv', header=None, delimiter = r'\\s+')"
   ]
  },
  {
   "cell_type": "code",
   "execution_count": 7,
   "metadata": {},
   "outputs": [],
   "source": [
    "year = dataFrame[0]\n",
    "month = dataFrame[1]\n",
    "day = dataFrame[2]\n",
    "hour = dataFrame[3]\n",
    "minute = dataFrame[4]\n",
    "second = dataFrame[5]\n",
    "dataType = dataFrame[6]\n",
    "height = dataFrame[7]"
   ]
  },
  {
   "cell_type": "code",
   "execution_count": 8,
   "metadata": {},
   "outputs": [],
   "source": [
    "date_time = []\n",
    "for x in range(len(year)):\n",
    "    date_time.append(datetime.datetime(year = year[x],\n",
    "                                       month = month[x],\n",
    "                                       day = day[x],\n",
    "                                       hour = hour[x],\n",
    "                                       minute = minute[x],\n",
    "                                       second = second[x],\n",
    "                                       tzinfo = pytz.utc))"
   ]
  },
  {
   "cell_type": "code",
   "execution_count": 9,
   "metadata": {},
   "outputs": [
    {
     "data": {
      "text/plain": [
       "3130"
      ]
     },
     "execution_count": 9,
     "metadata": {},
     "output_type": "execute_result"
    }
   ],
   "source": [
    "len(date_time)"
   ]
  },
  {
   "cell_type": "code",
   "execution_count": 10,
   "metadata": {},
   "outputs": [
    {
     "data": {
      "text/plain": [
       "3130"
      ]
     },
     "execution_count": 10,
     "metadata": {},
     "output_type": "execute_result"
    }
   ],
   "source": [
    "len(height)"
   ]
  },
  {
   "cell_type": "code",
   "execution_count": 11,
   "metadata": {},
   "outputs": [],
   "source": [
    "zippedList = list(zip(date_time, height))\n",
    "dataFrame = pd.DataFrame(zippedList, columns = ['datetime', 'height'])"
   ]
  },
  {
   "cell_type": "code",
   "execution_count": 12,
   "metadata": {},
   "outputs": [
    {
     "data": {
      "text/html": [
       "<div>\n",
       "<style scoped>\n",
       "    .dataframe tbody tr th:only-of-type {\n",
       "        vertical-align: middle;\n",
       "    }\n",
       "\n",
       "    .dataframe tbody tr th {\n",
       "        vertical-align: top;\n",
       "    }\n",
       "\n",
       "    .dataframe thead th {\n",
       "        text-align: right;\n",
       "    }\n",
       "</style>\n",
       "<table border=\"1\" class=\"dataframe\">\n",
       "  <thead>\n",
       "    <tr style=\"text-align: right;\">\n",
       "      <th></th>\n",
       "      <th>datetime</th>\n",
       "      <th>height</th>\n",
       "    </tr>\n",
       "  </thead>\n",
       "  <tbody>\n",
       "    <tr>\n",
       "      <td>0</td>\n",
       "      <td>2020-01-01 00:00:00+00:00</td>\n",
       "      <td>5657.403</td>\n",
       "    </tr>\n",
       "    <tr>\n",
       "      <td>1</td>\n",
       "      <td>2019-12-31 23:45:00+00:00</td>\n",
       "      <td>5657.390</td>\n",
       "    </tr>\n",
       "    <tr>\n",
       "      <td>2</td>\n",
       "      <td>2019-12-31 23:30:00+00:00</td>\n",
       "      <td>5657.393</td>\n",
       "    </tr>\n",
       "    <tr>\n",
       "      <td>3</td>\n",
       "      <td>2019-12-31 23:15:00+00:00</td>\n",
       "      <td>5657.413</td>\n",
       "    </tr>\n",
       "    <tr>\n",
       "      <td>4</td>\n",
       "      <td>2019-12-31 23:00:00+00:00</td>\n",
       "      <td>5657.447</td>\n",
       "    </tr>\n",
       "    <tr>\n",
       "      <td>...</td>\n",
       "      <td>...</td>\n",
       "      <td>...</td>\n",
       "    </tr>\n",
       "    <tr>\n",
       "      <td>3125</td>\n",
       "      <td>2019-12-01 01:00:00+00:00</td>\n",
       "      <td>5657.734</td>\n",
       "    </tr>\n",
       "    <tr>\n",
       "      <td>3126</td>\n",
       "      <td>2019-12-01 00:45:00+00:00</td>\n",
       "      <td>5657.609</td>\n",
       "    </tr>\n",
       "    <tr>\n",
       "      <td>3127</td>\n",
       "      <td>2019-12-01 00:30:00+00:00</td>\n",
       "      <td>5657.494</td>\n",
       "    </tr>\n",
       "    <tr>\n",
       "      <td>3128</td>\n",
       "      <td>2019-12-01 00:15:00+00:00</td>\n",
       "      <td>5657.390</td>\n",
       "    </tr>\n",
       "    <tr>\n",
       "      <td>3129</td>\n",
       "      <td>2019-12-01 00:00:00+00:00</td>\n",
       "      <td>5657.299</td>\n",
       "    </tr>\n",
       "  </tbody>\n",
       "</table>\n",
       "<p>3130 rows × 2 columns</p>\n",
       "</div>"
      ],
      "text/plain": [
       "                      datetime    height\n",
       "0    2020-01-01 00:00:00+00:00  5657.403\n",
       "1    2019-12-31 23:45:00+00:00  5657.390\n",
       "2    2019-12-31 23:30:00+00:00  5657.393\n",
       "3    2019-12-31 23:15:00+00:00  5657.413\n",
       "4    2019-12-31 23:00:00+00:00  5657.447\n",
       "...                        ...       ...\n",
       "3125 2019-12-01 01:00:00+00:00  5657.734\n",
       "3126 2019-12-01 00:45:00+00:00  5657.609\n",
       "3127 2019-12-01 00:30:00+00:00  5657.494\n",
       "3128 2019-12-01 00:15:00+00:00  5657.390\n",
       "3129 2019-12-01 00:00:00+00:00  5657.299\n",
       "\n",
       "[3130 rows x 2 columns]"
      ]
     },
     "execution_count": 12,
     "metadata": {},
     "output_type": "execute_result"
    }
   ],
   "source": [
    "dataFrame"
   ]
  },
  {
   "cell_type": "code",
   "execution_count": 13,
   "metadata": {},
   "outputs": [
    {
     "data": {
      "text/plain": [
       "5658.511334824281"
      ]
     },
     "execution_count": 13,
     "metadata": {},
     "output_type": "execute_result"
    }
   ],
   "source": [
    "np.average(dataFrame['height'])"
   ]
  },
  {
   "cell_type": "code",
   "execution_count": 14,
   "metadata": {},
   "outputs": [
    {
     "data": {
      "image/png": "[encoded data removed]",
      "text/plain": [
       "<Figure size 432x288 with 1 Axes>"
      ]
     },
     "metadata": {
      "needs_background": "light"
     },
     "output_type": "display_data"
    }
   ],
   "source": [
    "def plotFigure(x_act, y_act):    \n",
    "    figure = plt.figure()\n",
    "    axes1 = figure.add_subplot(111)\n",
    "    axes1.set_ylabel('tinggi (m)')\n",
    "    axes1.set_xlabel('Timestamp')\n",
    "    axes1.plot(x_act, y_act, marker = '.', color = 'red', \n",
    "                  label = 'actual')\n",
    "    axes1.legend(loc = 'upper right')\n",
    "    axes1.set_xlim(x_act[-1], x_act[0])\n",
    "    plt.gcf().autofmt_xdate()\n",
    "    plt.show()\n",
    "\n",
    "listDatetime = dataFrame['datetime'].to_list()\n",
    "listHeight = dataFrame['height'].to_list()\n",
    "\n",
    "averageData = np.average(listHeight)\n",
    "listHeight = np.subtract(listHeight, averageData)\n",
    "\n",
    "plotFigure(listDatetime, listHeight)"
   ]
  },
  {
   "cell_type": "code",
   "execution_count": 15,
   "metadata": {},
   "outputs": [
    {
     "data": {
      "text/plain": [
       "0      2020-01-01 00:00:00+00:00\n",
       "1      2019-12-31 23:45:00+00:00\n",
       "2      2019-12-31 23:30:00+00:00\n",
       "3      2019-12-31 23:15:00+00:00\n",
       "4      2019-12-31 23:00:00+00:00\n",
       "                  ...           \n",
       "3125   2019-12-01 01:00:00+00:00\n",
       "3126   2019-12-01 00:45:00+00:00\n",
       "3127   2019-12-01 00:30:00+00:00\n",
       "3128   2019-12-01 00:15:00+00:00\n",
       "3129   2019-12-01 00:00:00+00:00\n",
       "Name: datetime, Length: 3130, dtype: datetime64[ns, UTC]"
      ]
     },
     "execution_count": 15,
     "metadata": {},
     "output_type": "execute_result"
    }
   ],
   "source": [
    "dataFrame['datetime']"
   ]
  },
  {
   "cell_type": "code",
   "execution_count": 16,
   "metadata": {},
   "outputs": [
    {
     "data": {
      "text/plain": [
       "5658.511334824281"
      ]
     },
     "execution_count": 16,
     "metadata": {},
     "output_type": "execute_result"
    }
   ],
   "source": [
    "averageData"
   ]
  },
  {
   "cell_type": "code",
   "execution_count": null,
   "metadata": {},
   "outputs": [],
   "source": []
  }
 ],
 "metadata": {
  "kernelspec": {
   "display_name": "Python 3",
   "language": "python",
   "name": "python3"
  },
  "language_info": {
   "codemirror_mode": {
    "name": "ipython",
    "version": 3
   },
   "file_extension": ".py",
   "mimetype": "text/x-python",
   "name": "python",
   "nbconvert_exporter": "python",
   "pygments_lexer": "ipython3",
   "version": "3.7.4"
  }
 },
 "nbformat": 4,
 "nbformat_minor": 2
}
